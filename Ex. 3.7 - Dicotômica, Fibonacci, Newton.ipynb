{
 "cells": [
  {
   "cell_type": "code",
   "execution_count": 1,
   "id": "5582334c",
   "metadata": {},
   "outputs": [],
   "source": [
    "import math\n",
    "import matplotlib.pyplot as plt\n",
    "import numpy\n",
    "\n",
    "MAX_ITERATION = 100"
   ]
  },
  {
   "cell_type": "code",
   "execution_count": 2,
   "id": "0978be84",
   "metadata": {},
   "outputs": [],
   "source": [
    "def funcao(x): #Escrever a função da conta aqui\n",
    "    return pow(x-2, 4)\n",
    "    #return math.log(x, 4)\n",
    "    #return (x*x)+(2*x) "
   ]
  },
  {
   "cell_type": "code",
   "execution_count": 3,
   "id": "5fdcb6ec",
   "metadata": {},
   "outputs": [],
   "source": [
    "def busca_dicotomica(epsilon, l, a, b, k):\n",
    "    if k > MAX_ITERATION:\n",
    "        print(\"----------limite de interações busca dicotômica----------\")\n",
    "        return (a+b)/2\n",
    "    \n",
    "    if abs(b - a) < l:\n",
    "        return (a+b)/2\n",
    "        \n",
    "    if funcao(((a+b)/2)-epsilon) < funcao(((a+b)/2)+epsilon):\n",
    "        return busca_dicotomica(epsilon, l, a, (((a+b)/2)+epsilon), k + 1)\n",
    "    else:\n",
    "        return busca_dicotomica(epsilon, l, (((a+b)/2)-epsilon), b, k + 1)"
   ]
  },
  {
   "cell_type": "code",
   "execution_count": 4,
   "id": "d5916eee",
   "metadata": {},
   "outputs": [],
   "source": [
    "def gera_fibonacci(n):\n",
    "    if n == 1 or n == 2:\n",
    "        return 1\n",
    "    else:\n",
    "        return gera_fibonacci(n - 1) + gera_fibonacci(n - 2)"
   ]
  },
  {
   "cell_type": "code",
   "execution_count": 5,
   "id": "a60bb3dd",
   "metadata": {},
   "outputs": [],
   "source": [
    "def busca_fibonacci(epsilon, l, a, b, k, fib_n):\n",
    "    if k > MAX_ITERATION:\n",
    "        print(\"----------limite de interações busca Fibonacci----------\")\n",
    "        return (a+b)/2\n",
    "    \n",
    "    if abs(b - a) < l:\n",
    "        return (a+b)/2\n",
    "    \n",
    "    lambda_var = a+((fib_n[0]/fib_n[2])*(b - a))\n",
    "    mi_var = a+((fib_n[1]/fib_n[2])*(b - a))\n",
    "    if funcao(lambda_var) < funcao(mi_var):\n",
    "        return busca_fibonacci(epsilon, l, a, mi_var, k+1, fib_n)\n",
    "    else:\n",
    "        return busca_fibonacci(epsilon, l, lambda_var, b, k+1, fib_n)"
   ]
  },
  {
   "cell_type": "code",
   "execution_count": 6,
   "id": "3c11a1bc",
   "metadata": {},
   "outputs": [],
   "source": [
    "def derivada_numerica(x):\n",
    "    h = 0.00001\n",
    "    return (funcao(x+h)-funcao(x))/h\n",
    "\n",
    "def derivada_numerica_segunda(x):\n",
    "    h = 0.001\n",
    "    return (funcao(x)-(2*funcao(x-h))+funcao(x-2*h))/(h*h)"
   ]
  },
  {
   "cell_type": "code",
   "execution_count": 7,
   "id": "eb1ba5aa",
   "metadata": {},
   "outputs": [],
   "source": [
    "def busca_newton(x, x_k, k, e):\n",
    "    if k > MAX_ITERATION:\n",
    "        print(\"----------limite de interações busca Newton----------\")\n",
    "        return x_k\n",
    "    else:\n",
    "        if abs(derivada_numerica(x_k)) < e:\n",
    "            return x_k\n",
    "        else:\n",
    "            return busca_newton(x, x_k-(derivada_numerica(x_k)/derivada_numerica_segunda(x)), k+1, e)"
   ]
  },
  {
   "cell_type": "code",
   "execution_count": 8,
   "id": "1a362997",
   "metadata": {},
   "outputs": [],
   "source": [
    "def busca_quadratica(x, x1, x2, x3, k, e):\n",
    "    up_ddp = funcao(x1)*(x2-x3)\n",
    "    up_ddp += funcao(x2)*(x3-x1)\n",
    "    up_ddp += funcao(x3)*(x1-x2)\n",
    "    down_ddp = (x2-x3)*(x3-x1)*(x1-x2)\n",
    "    \n",
    "    if (up_ddp/down_ddp) < 0:\n",
    "        up_dp = funcao(x1)*(x2*x2-x3*x3)\n",
    "        up_dp += funcao(x2)*(x3*x3-x1*x1)\n",
    "        up_dp += funcao(x3)*(x1*x1-x2*x2)\n",
    "        down_dp = funcao(x1)*(x2-x3)\n",
    "        down_dp += funcao(x2)*(x3-x1)\n",
    "        down_dp += funcao(x3)*(x1-x2)\n",
    "    \n",
    "        if down_dp != 0:\n",
    "            x_ = 0.5*(up_dp/down_dp)\n",
    "        else:\n",
    "            return x_\n",
    "        #if derivada_numerica(x_) < e:#abs(derivative(funcao, x_, 0.01)) < e:\n",
    "        #   return x_\n",
    "        \n",
    "        if k > MAX_ITERATION:\n",
    "            print(\"----------limite de interações busca quadrática----------\")\n",
    "            return x_\n",
    "    \n",
    "        if (x1<x_ and x_<x3) or (x3<x_ and x_<x1):\n",
    "            if funcao(x_) < funcao(x3):\n",
    "                return busca_quadratica(x, x1, x3, x_, k+1, e)\n",
    "            else:\n",
    "                return busca_quadratica(x, x_, x2, x3, k+1, e)\n",
    "        else:\n",
    "            if funcao(x3) < funcao(x_):\n",
    "                return busca_quadratica(x, x1, x_, x3, k+1, e)\n",
    "            else:\n",
    "                return busca_quadratica(x, x3, x2, x_, k+1, e)\n",
    "    else:\n",
    "        print(\"Erro da segunda derivada de p(x), d^2p(x)/dx^2 > 0\")\n",
    "        return -1"
   ]
  },
  {
   "cell_type": "code",
   "execution_count": 9,
   "id": "949b1821",
   "metadata": {},
   "outputs": [],
   "source": [
    "def call_metodo(min_range, max_range, step, epsilon):\n",
    "    \n",
    "    eixo_x = numpy.arange(min_range, max_range, step)\n",
    "    eixo_y = [funcao(i) for i in eixo_x]\n",
    "        \n",
    "    fig, ax = plt.subplots()\n",
    "    \n",
    "    \n",
    "    #Busca dicotômica\n",
    "    l_dicotomica = 0.04\n",
    "    if epsilon >= l_dicotomica: #Checa se epsilon é menor que l\n",
    "        print(\"Erro, Epsilon maior que l em busca dicotômica!\")\n",
    "    else:\n",
    "        x_busca_dicotomica = busca_dicotomica(epsilon, l_dicotomica, min_range, max_range, 0)\n",
    "        f_x_busca_dicotomica = funcao(x_busca_dicotomica)\n",
    "        print(f\"Busca dicôtomica mínimo -> f({x_busca_dicotomica}) = {f_x_busca_dicotomica}\")\n",
    "        ax.plot(x_busca_dicotomica, f_x_busca_dicotomica, \"ro\", label=\"Busca dicotômica\")\n",
    "    #Fim busca dicotômica\n",
    "    \n",
    "    print(\"------------------------------------------------------------------------------------------------\")\n",
    "    \n",
    "    #Busca Fibonacci\n",
    "    n_fibonacci = 10\n",
    "    fibonacci_list = [gera_fibonacci(n_fibonacci-1), gera_fibonacci(n_fibonacci), gera_fibonacci(n_fibonacci+1)]\n",
    "    l_fibonacci = (max_range - min_range)/gera_fibonacci(n_fibonacci)\n",
    "    x_busca_fibonacci = busca_fibonacci(epsilon, l_fibonacci, min_range, max_range, 0, fibonacci_list)\n",
    "    f_x_busca_fibonacci = funcao(x_busca_fibonacci)\n",
    "    print(f\"Busca Fibonacci mínimo -> f({x_busca_fibonacci}) = {f_x_busca_fibonacci}\")\n",
    "    ax.plot(x_busca_fibonacci, f_x_busca_fibonacci, \"bo\", label=\"Busca Fibonacci\")\n",
    "    #Fim busca Fibonacci\n",
    "    \n",
    "    print(\"------------------------------------------------------------------------------------------------\")\n",
    "    \n",
    "    #Busca de Newton\n",
    "    e_newton = 0.001\n",
    "    x_busca_newton = busca_newton(min_range-1, max_range+1, 0, e_newton)\n",
    "    f_x_busca_newton = funcao(x_busca_newton)\n",
    "    print(f\"Busca Newton mínimo -> f({x_busca_newton}) = {f_x_busca_newton}\")\n",
    "    ax.plot(x_busca_newton, f_x_busca_newton, \"go\", label=\"busca Newton\")\n",
    "    #Fim busca de Newton\n",
    "    \n",
    "    print(\"------------------------------------------------------------------------------------------------\")\n",
    "    \n",
    "    #Busca quadrática\n",
    "#     e_quadratica = 10\n",
    "#     x_busca_quadratica = busca_quadratica(min_range, min_range, max_range, abs(min_range+max_range)/2, 0, e_quadratica)\n",
    "#     f_x_busca_quadratica = funcao(x_busca_quadratica)\n",
    "#     print(f\"Busca quadrática mínimo -> f({x_busca_quadratica}) = {f_x_busca_quadratica}\")\n",
    "#     ax.plot(x_busca_quadratica, f_x_busca_quadratica, \"yo\", label=\"busca quadrática\")\n",
    "    #Fim busca quadrática\n",
    "\n",
    "    \n",
    "    ax.plot(eixo_x, eixo_y)\n",
    "    ax.legend(bbox_to_anchor=(1.05, 1), loc='upper left', borderaxespad=0)\n",
    "    plt.show()"
   ]
  },
  {
   "cell_type": "code",
   "execution_count": 10,
   "id": "babc602e",
   "metadata": {},
   "outputs": [
    {
     "name": "stdout",
     "output_type": "stream",
     "text": [
      "Busca dicôtomica mínimo -> f(2.0052929687499996) = 7.848692593686398e-10\n",
      "------------------------------------------------------------------------------------------------\n",
      "Busca Fibonacci mínimo -> f(1.9970451497187245) = 7.623280892582561e-11\n",
      "------------------------------------------------------------------------------------------------\n",
      "----------limite de interações busca Newton----------\n",
      "Busca Newton mínimo -> f(2.7102588026017815) = 0.254487525825297\n",
      "------------------------------------------------------------------------------------------------\n"
     ]
    },
    {
     "data": {
      "image/png": "[encoded data removed]",
      "text/plain": [
       "<Figure size 432x288 with 1 Axes>"
      ]
     },
     "metadata": {
      "needs_background": "light"
     },
     "output_type": "display_data"
    }
   ],
   "source": [
    "call_metodo(-3, 5, 0.01, 0.01)"
   ]
  },
  {
   "cell_type": "code",
   "execution_count": null,
   "id": "31d93172",
   "metadata": {},
   "outputs": [],
   "source": []
  },
  {
   "cell_type": "code",
   "execution_count": null,
   "id": "88b14d90",
   "metadata": {},
   "outputs": [],
   "source": []
  }
 ],
 "metadata": {
  "kernelspec": {
   "display_name": "Python 3 (ipykernel)",
   "language": "python",
   "name": "python3"
  },
  "language_info": {
   "codemirror_mode": {
    "name": "ipython",
    "version": 3
   },
   "file_extension": ".py",
   "mimetype": "text/x-python",
   "name": "python",
   "nbconvert_exporter": "python",
   "pygments_lexer": "ipython3",
   "version": "3.9.7"
  }
 },
 "nbformat": 4,
 "nbformat_minor": 5
}
